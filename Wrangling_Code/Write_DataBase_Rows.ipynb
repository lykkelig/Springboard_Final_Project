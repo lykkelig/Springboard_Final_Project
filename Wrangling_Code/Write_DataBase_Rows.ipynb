{
 "cells": [
  {
   "cell_type": "markdown",
   "id": "cce8fd57",
   "metadata": {},
   "source": [
    "### Write_DataBase_Rows\n",
    "#### Write records to the PATIENT_NOTES table from an Excel spreadsheet"
   ]
  },
  {
   "cell_type": "code",
   "execution_count": 1,
   "id": "2912b372",
   "metadata": {},
   "outputs": [],
   "source": [
    "import pandas as pd\n",
    "import pyodbc"
   ]
  },
  {
   "cell_type": "code",
   "execution_count": 2,
   "id": "74906a44",
   "metadata": {},
   "outputs": [],
   "source": [
    "# Read the Excel file into a pandas DataFrame, skipping the header row\n",
    "df = pd.read_excel('combined_patient_records_20.xlsx')"
   ]
  },
  {
   "cell_type": "code",
   "execution_count": 3,
   "id": "7d55db95",
   "metadata": {},
   "outputs": [],
   "source": [
    "# Convert 'PATIENT_ID' to string\n",
    "df['PATIENT_ID'] = df['PATIENT_ID'].astype(str)"
   ]
  },
  {
   "cell_type": "code",
   "execution_count": 4,
   "id": "fae47d3c",
   "metadata": {},
   "outputs": [],
   "source": [
    "# In the dataframe, change columns to blanks from NaN\n",
    "df['DESCRIPTION'].fillna('', inplace=True) \n",
    "df['TRANSCRIPTION'].fillna('', inplace=True) \n",
    "df['KEYWORDS'].fillna('', inplace=True) \n",
    "df['MEDICATIONS'].fillna('', inplace=True)\n",
    "df['ALLERGIES'].fillna('', inplace=True)"
   ]
  },
  {
   "cell_type": "code",
   "execution_count": 5,
   "id": "820f3839",
   "metadata": {},
   "outputs": [
    {
     "name": "stdout",
     "output_type": "stream",
     "text": [
      "PATIENT_ID       object\n",
      "DESCRIPTION      object\n",
      "TRANSCRIPTION    object\n",
      "KEYWORDS         object\n",
      "MEDICATIONS      object\n",
      "ALLERGIES        object\n",
      "dtype: object\n"
     ]
    }
   ],
   "source": [
    "print(df.dtypes)"
   ]
  },
  {
   "cell_type": "code",
   "execution_count": null,
   "id": "b3743549",
   "metadata": {},
   "outputs": [],
   "source": [
    "df['MEDICATIONS'] = df['MEDICATIONS'].astype(str)\n",
    "df['ALLERGIES'] = df['ALLERGIES'].astype(str)"
   ]
  },
  {
   "cell_type": "code",
   "execution_count": 6,
   "id": "437ce466",
   "metadata": {},
   "outputs": [],
   "source": [
    "# Connect to the SQL Server database\n",
    "conn = pyodbc.connect('DRIVER={SQL Server};SERVER=DESKTOP-AVM38KQ\\MSSQLSERVER01;DATABASE=MED_DATA')"
   ]
  },
  {
   "cell_type": "code",
   "execution_count": 7,
   "id": "5c7fee77",
   "metadata": {},
   "outputs": [],
   "source": [
    "# Function to insert rows into the SQL Server table\n",
    "def insert_into_sql(row):\n",
    "    cursor = conn.cursor()\n",
    "    cursor.execute(\"INSERT INTO PATIENT_NOTES (PATIENT_ID, DESCRIPTION, TRANSCRIPTION, KEYWORDS, MEDICATIONS, \n",
    "                   ALLERGIES) VALUES (?, ?, ?, ?, ?, ?)\",\n",
    "                   row['PATIENT_ID'], row['DESCRIPTION'], row['TRANSCRIPTION'], row['KEYWORDS'], row['MEDICATIONS'], \n",
    "        row['ALLERGIES'])\n",
    "    cursor.commit()"
   ]
  },
  {
   "cell_type": "code",
   "execution_count": 8,
   "id": "93f4e3da",
   "metadata": {},
   "outputs": [
    {
     "data": {
      "text/plain": [
       "0     None\n",
       "1     None\n",
       "2     None\n",
       "3     None\n",
       "4     None\n",
       "5     None\n",
       "6     None\n",
       "7     None\n",
       "8     None\n",
       "9     None\n",
       "10    None\n",
       "11    None\n",
       "12    None\n",
       "13    None\n",
       "14    None\n",
       "dtype: object"
      ]
     },
     "execution_count": 8,
     "metadata": {},
     "output_type": "execute_result"
    }
   ],
   "source": [
    "# Insert the rows into the table from the DataFrame\n",
    "df.apply(insert_into_sql, axis=1)"
   ]
  },
  {
   "cell_type": "code",
   "execution_count": null,
   "id": "e0aacac4",
   "metadata": {},
   "outputs": [],
   "source": [
    "# Close the database connection\n",
    "conn.close()"
   ]
  }
 ],
 "metadata": {
  "kernelspec": {
   "display_name": "Python 3 (ipykernel)",
   "language": "python",
   "name": "python3"
  },
  "language_info": {
   "codemirror_mode": {
    "name": "ipython",
    "version": 3
   },
   "file_extension": ".py",
   "mimetype": "text/x-python",
   "name": "python",
   "nbconvert_exporter": "python",
   "pygments_lexer": "ipython3",
   "version": "3.11.5"
  }
 },
 "nbformat": 4,
 "nbformat_minor": 5
}
